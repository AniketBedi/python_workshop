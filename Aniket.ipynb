{
 "cells": [
  {
   "cell_type": "code",
   "execution_count": 1,
   "metadata": {},
   "outputs": [
    {
     "name": "stdout",
     "output_type": "stream",
     "text": [
      "Enter Number:2\n",
      "Number 2 is Even\n"
     ]
    }
   ],
   "source": [
    "#[Lab2]\n",
    "\n",
    "#[Question-1]\n",
    "\n",
    "n=int(input(\"Enter Number:\"))\n",
    "\n",
    "if n%2==0:\n",
    "    print(\"Number\",n,\"is Even\")\n",
    "else:\n",
    "    print(\"Number\",n,\"is Odd\")"
   ]
  },
  {
   "cell_type": "code",
   "execution_count": 4,
   "metadata": {},
   "outputs": [
    {
     "name": "stdout",
     "output_type": "stream",
     "text": [
      "Enter a YEAR:2000\n",
      "It is a Leap Year.\n"
     ]
    }
   ],
   "source": [
    "#[Question-2]\n",
    "\n",
    "n=int(input(\"Enter a YEAR:\"))\n",
    "\n",
    "if n%4==0:\n",
    "    if n%100==0:\n",
    "        if n%400==0:\n",
    "            print(\"It is a Leap Year.\")\n",
    "    else:\n",
    "        print(\"It is a Non Leap Year.\")\n",
    "\n",
    "else:\n",
    "    print(\"It is a Non Leap Year.\")"
   ]
  },
  {
   "cell_type": "code",
   "execution_count": 5,
   "metadata": {},
   "outputs": [
    {
     "name": "stdout",
     "output_type": "stream",
     "text": [
      "Enter a Character:w\n",
      "w is a Consonant.\n"
     ]
    }
   ],
   "source": [
    "#[Question-3]\n",
    "\n",
    "str=input(\"Enter a Character:\")\n",
    "\n",
    "if str=='a' or str=='e' or str=='i' or str=='o' or str=='u':\n",
    "    print(str,\"is a Vowel.\")\n",
    "else:\n",
    "    print(str,\"is a Consonant.\")\n"
   ]
  },
  {
   "cell_type": "code",
   "execution_count": 6,
   "metadata": {},
   "outputs": [
    {
     "name": "stdout",
     "output_type": "stream",
     "text": [
      "Enter First Number:32\n",
      "Enter Second Number:33\n",
      "2nd Number is Greater\n"
     ]
    }
   ],
   "source": [
    "#[Question-4]\n",
    "\n",
    "n=int(input(\"Enter First Number:\"))\n",
    "n1=int(input(\"Enter Second Number:\"))\n",
    "\n",
    "if n>n1:\n",
    "    print(\"1st Number is Greater\")\n",
    "else:\n",
    "    print(\"2nd Number is Greater\")\n"
   ]
  },
  {
   "cell_type": "code",
   "execution_count": 7,
   "metadata": {},
   "outputs": [
    {
     "name": "stdout",
     "output_type": "stream",
     "text": [
      "Enter Number for Factorial:43\n",
      "Factorial of Number is: 1806\n"
     ]
    }
   ],
   "source": [
    "#[Question-5]\n",
    "\n",
    "n=int(input(\"Enter Number for Factorial:\"))\n",
    "\n",
    "for i in range(1,n):\n",
    "    i=i*n\n",
    "    \n",
    "print(\"Factorial of Number is:\",i)\n"
   ]
  },
  {
   "cell_type": "code",
   "execution_count": 8,
   "metadata": {},
   "outputs": [
    {
     "name": "stdout",
     "output_type": "stream",
     "text": [
      "Enter a Number:2\n"
     ]
    }
   ],
   "source": [
    "#[Question-8]\n",
    "\n",
    "n=int(input(\"Enter a Number:\"))\n",
    "\n",
    "for i in range(2,n):\n",
    "    if n%i==0:\n",
    "        print(n,\"is a Non-Prime Number\")\n",
    "        break\n",
    "    if n%i!=0:\n",
    "        print(n,\"is a Prime Number\")\n",
    "        break\n"
   ]
  },
  {
   "cell_type": "code",
   "execution_count": 9,
   "metadata": {},
   "outputs": [
    {
     "name": "stdout",
     "output_type": "stream",
     "text": [
      "Enter Password23333\n",
      "Invalid Password\n"
     ]
    }
   ],
   "source": [
    "#[Question-10]\n",
    "\n",
    "def sum(x,y):\n",
    "    return x+y\n",
    "def product(x,y):\n",
    "    return x*y\n",
    "def fact(x):\n",
    "    fact=1\n",
    "    i=1\n",
    "    for i in range(1,x+1):\n",
    "        fact=fact*i\n",
    "    return fact\n",
    "\n",
    "def diff(x,y):\n",
    "    if x>y:\n",
    "        return x-y\n",
    "    else:\n",
    "        return y-x\n",
    "\n",
    "def div(x,y):\n",
    "    return float(x/y)\n",
    "\n",
    "def lcm(x,y):\n",
    "    if x>y:\n",
    "        z=z\n",
    "    else:\n",
    "        z=y\n",
    "\n",
    "    while True:\n",
    "        if z%x==0 and z%y==0:\n",
    "            lcm=z\n",
    "            break\n",
    "        z=z+1\n",
    "    return lcm\n",
    "\n",
    "\n",
    "\n",
    "    \n",
    "p=int(input(\"Enter Password\"))\n",
    "if p==1112:\n",
    "    print(\"1.SUM\")\n",
    "    print(\"2.PRODUCT\")\n",
    "    print(\"3.FACTORIAL\")\n",
    "    print(\"4.DIFFERENCE\")\n",
    "    print(\"5.DIVIDE\")\n",
    "    print(\"6.LCM\")\n",
    "    \n",
    "    n=int(input(\"Enter Your Choice\"))\n",
    "    if n==1:\n",
    "        a=int(input(\"Enter First Number:\"))\n",
    "        b=int(input(\"Enter Second Number:\"))\n",
    "        print(\"Sum is\",sum(a,b))\n",
    "    elif n==2:\n",
    "        a=int(input(\"Enter First Number:\"))\n",
    "        b=int(input(\"Enter Second Number:\"))\n",
    "        print(\"Sum is\",product(a,b))\n",
    "    elif n==3:\n",
    "        a=int(input(\"Enter Number:\"))\n",
    "        print(\"Factorial is\",fact(a))\n",
    "    elif n==4:\n",
    "        a=int(input(\"Enter First Number:\"))\n",
    "        b=int(input(\"Enter Second Number:\"))\n",
    "        print(\"Difference is\",diff(a,b))\n",
    "    elif n==5:\n",
    "        a=int(input(\"Enter First Number:\"))\n",
    "        b=int(input(\"Enter Second Number:\"))\n",
    "        print(\"Division is\",div(a,b))\n",
    "\n",
    "    elif n==6:\n",
    "        a=int(input(\"Enter First Number:\"))\n",
    "        b=int(input(\"Enter Second Number:\"))\n",
    "        print(\"LCM is\",lcm(a,b))\n",
    "else:\n",
    "    print(\"Invalid Password\")\n"
   ]
  },
  {
   "cell_type": "code",
   "execution_count": 10,
   "metadata": {},
   "outputs": [
    {
     "name": "stdout",
     "output_type": "stream",
     "text": [
      "Enter Range:4\n",
      "2\n"
     ]
    }
   ],
   "source": [
    "#{Lab3}\n",
    "\n",
    "#[Question-2]\n",
    "\n",
    "x=int(input(\"Enter Range:\"))\n",
    "for i in range(1,x):\n",
    "    if i%2==0:\n",
    "        print(i)\n",
    "    if i%2!=0:\n",
    "        continue\n"
   ]
  },
  {
   "cell_type": "code",
   "execution_count": 11,
   "metadata": {},
   "outputs": [
    {
     "name": "stdout",
     "output_type": "stream",
     "text": [
      "Enter Range:5\n",
      "2\n",
      "4\n"
     ]
    }
   ],
   "source": [
    "#[Question-3]\n",
    "\n",
    "n=int(input(\"Enter Range:\"))\n",
    "\n",
    "for i in range(1,n):\n",
    "    if i%2==0:\n",
    "        print(i)\n",
    "    if i%2!=0:\n",
    "        continue\n",
    "\n"
   ]
  },
  {
   "cell_type": "code",
   "execution_count": 12,
   "metadata": {},
   "outputs": [
    {
     "name": "stdout",
     "output_type": "stream",
     "text": [
      "5\n"
     ]
    }
   ],
   "source": [
    "#[Question-5]\n",
    "A=\"Hello\"\n",
    "count=0\n",
    "for i in A:\n",
    "    count=count+1\n",
    "print(count)\n"
   ]
  },
  {
   "cell_type": "code",
   "execution_count": 13,
   "metadata": {},
   "outputs": [
    {
     "name": "stdout",
     "output_type": "stream",
     "text": [
      "Number of A in String is 3\n"
     ]
    }
   ],
   "source": [
    "#[Question-6]\n",
    "\n",
    "A=\"Banana\"\n",
    "count=0\n",
    "for i in A:\n",
    "    if i=='a':\n",
    "        count=count+1\n",
    "        \n",
    "print(\"Number of A in String is\",count)\n"
   ]
  },
  {
   "cell_type": "code",
   "execution_count": 14,
   "metadata": {},
   "outputs": [
    {
     "name": "stdout",
     "output_type": "stream",
     "text": [
      "Enter a String:Shreejeev\n",
      "Shhr\n"
     ]
    }
   ],
   "source": [
    "#[Question-7]\n",
    "str=input(\"Enter a String:\")\n",
    "len=len(str)\n",
    "\n",
    "if len<=2:\n",
    "    print(\"Not Valid\")\n",
    "else:\n",
    "    print(str[0]+str[1]+str[count-2]+str[count-1])\n"
   ]
  },
  {
   "cell_type": "code",
   "execution_count": 15,
   "metadata": {},
   "outputs": [
    {
     "name": "stdout",
     "output_type": "stream",
     "text": [
      "Enter a String:Shreejeev\n",
      "Final String is Shreejeev\n"
     ]
    }
   ],
   "source": [
    "#[Question-8]\n",
    "str=input(\"Enter a String:\")\n",
    "\n",
    "a=str[0]\n",
    "\n",
    "str1=str.replace(a,\"$\")\n",
    "\n",
    "print(\"Final String is\",a+str1[1:])        \n"
   ]
  },
  {
   "cell_type": "code",
   "execution_count": 16,
   "metadata": {},
   "outputs": [
    {
     "ename": "SyntaxError",
     "evalue": "invalid syntax (<ipython-input-16-5141004d48e1>, line 2)",
     "output_type": "error",
     "traceback": [
      "\u001b[1;36m  File \u001b[1;32m\"<ipython-input-16-5141004d48e1>\"\u001b[1;36m, line \u001b[1;32m2\u001b[0m\n\u001b[1;33m    str=input(\"Enter First String:\")\u001b[0m\n\u001b[1;37m       ^\u001b[0m\n\u001b[1;31mSyntaxError\u001b[0m\u001b[1;31m:\u001b[0m invalid syntax\n"
     ]
    }
   ],
   "source": [
    "[#Question-9]\n",
    "str=input(\"Enter First String:\")\n",
    "str1=input(\"Enter Second String:\")\n",
    "\n",
    "a=str+\" \"+str1\n",
    "print(\"Total String is\",a)\n",
    "\n",
    "b=str.replace(str[0],str1[0])\n",
    "c=str1.replace(str1[0],str[0])\n",
    "\n",
    "print(\"Final String after Replacement is\",b+' '+c)\n"
   ]
  },
  {
   "cell_type": "code",
   "execution_count": 17,
   "metadata": {},
   "outputs": [
    {
     "name": "stdout",
     "output_type": "stream",
     "text": [
      "Enter a String:Shreejeev\n"
     ]
    },
    {
     "ename": "TypeError",
     "evalue": "'int' object is not callable",
     "output_type": "error",
     "traceback": [
      "\u001b[1;31m---------------------------------------------------------------------------\u001b[0m",
      "\u001b[1;31mTypeError\u001b[0m                                 Traceback (most recent call last)",
      "\u001b[1;32m<ipython-input-17-5e47c47850c9>\u001b[0m in \u001b[0;36m<module>\u001b[1;34m\u001b[0m\n\u001b[0;32m      3\u001b[0m \u001b[0mstr1\u001b[0m\u001b[1;33m=\u001b[0m\u001b[1;34m\"\"\u001b[0m\u001b[1;33m\u001b[0m\u001b[1;33m\u001b[0m\u001b[0m\n\u001b[0;32m      4\u001b[0m \u001b[1;33m\u001b[0m\u001b[0m\n\u001b[1;32m----> 5\u001b[1;33m \u001b[1;32mif\u001b[0m \u001b[0mlen\u001b[0m\u001b[1;33m(\u001b[0m\u001b[0mstr\u001b[0m\u001b[1;33m)\u001b[0m\u001b[1;33m<\u001b[0m\u001b[1;36m3\u001b[0m\u001b[1;33m:\u001b[0m\u001b[1;33m\u001b[0m\u001b[1;33m\u001b[0m\u001b[0m\n\u001b[0m\u001b[0;32m      6\u001b[0m     \u001b[0mprint\u001b[0m\u001b[1;33m(\u001b[0m\u001b[1;34m\"No Change\"\u001b[0m\u001b[1;33m)\u001b[0m\u001b[1;33m\u001b[0m\u001b[1;33m\u001b[0m\u001b[0m\n\u001b[0;32m      7\u001b[0m \u001b[1;32melse\u001b[0m\u001b[1;33m:\u001b[0m\u001b[1;33m\u001b[0m\u001b[1;33m\u001b[0m\u001b[0m\n",
      "\u001b[1;31mTypeError\u001b[0m: 'int' object is not callable"
     ]
    }
   ],
   "source": [
    "#[Question-10]\n",
    "str=input(\"Enter a String:\")\n",
    "str1=\"\"\n",
    "\n",
    "if len(str)<3:\n",
    "    print(\"No Change\")\n",
    "else:\n",
    "    if str[-3:]=='ing':\n",
    "        str1=str+'ly'\n",
    "    else:\n",
    "        str1=str+'ing'\n",
    "    \n",
    "print(str1)\n"
   ]
  },
  {
   "cell_type": "code",
   "execution_count": 18,
   "metadata": {},
   "outputs": [],
   "source": [
    "#{Lab-4}\n",
    "\n",
    "#[Question-1]\n",
    "a=(\"Hi\")\n"
   ]
  },
  {
   "cell_type": "code",
   "execution_count": 19,
   "metadata": {},
   "outputs": [
    {
     "name": "stdout",
     "output_type": "stream",
     "text": [
      "('Hi', 2, 2.3)\n"
     ]
    }
   ],
   "source": [
    "#[Question-2]\n",
    "a=(\"Hi\",2,2.3)\n",
    "print(a)\n"
   ]
  },
  {
   "cell_type": "code",
   "execution_count": 20,
   "metadata": {},
   "outputs": [
    {
     "name": "stdout",
     "output_type": "stream",
     "text": [
      "1\n"
     ]
    }
   ],
   "source": [
    "#[Question-3]\n",
    "\n",
    "a=(1,3,4,12)\n",
    "print(a[0])\n"
   ]
  },
  {
   "cell_type": "code",
   "execution_count": 22,
   "metadata": {},
   "outputs": [
    {
     "name": "stdout",
     "output_type": "stream",
     "text": [
      "Enter Number to add in the Tuple:69\n",
      "(1, 4, 5, 12, 34, 69)\n"
     ]
    }
   ],
   "source": [
    "#[Question-5]\n",
    "\n",
    "a=(1,4,5,12,34)\n",
    "x=int(input(\"Enter Number to add in the Tuple:\"))\n",
    "\n",
    "a=a+(x,)\n",
    "\n",
    "print(a)\n"
   ]
  },
  {
   "cell_type": "code",
   "execution_count": 24,
   "metadata": {},
   "outputs": [
    {
     "name": "stdout",
     "output_type": "stream",
     "text": [
      "GreetingsMa'am\n"
     ]
    }
   ],
   "source": [
    "#[Question-6]\n",
    "\n",
    "tup=(\"Greetings\",\"Ma'am\")\n",
    "str=''.join(tup)\n",
    "print(str)\n"
   ]
  },
  {
   "cell_type": "code",
   "execution_count": 25,
   "metadata": {},
   "outputs": [
    {
     "name": "stdout",
     "output_type": "stream",
     "text": [
      "4\n"
     ]
    }
   ],
   "source": [
    "#[Question-7]\n",
    "\n",
    "tup=(1,2,3,4,5,6,7,8,9,10)\n",
    "print(tup[3])\n"
   ]
  },
  {
   "cell_type": "code",
   "execution_count": 26,
   "metadata": {},
   "outputs": [
    {
     "name": "stdout",
     "output_type": "stream",
     "text": [
      "Element 1 found\n",
      "Element 1 found\n"
     ]
    }
   ],
   "source": [
    "#[Question-9]\n",
    "\n",
    "tup=(1,2,3,4,1)\n",
    "a=tup[0]\n",
    "for i in tup:\n",
    "    if i==a:\n",
    "        print(\"Element\",a,\"found\")\n",
    "    else:\n",
    "        continue\n"
   ]
  },
  {
   "cell_type": "code",
   "execution_count": 28,
   "metadata": {},
   "outputs": [
    {
     "name": "stdout",
     "output_type": "stream",
     "text": [
      "Enter a Number:3\n",
      "Yes 3 is present\n"
     ]
    }
   ],
   "source": [
    "#[Question-10]\n",
    "tup=(1,2,3,4,5)\n",
    "x=int(input(\"Enter a Number:\"))\n",
    "\n",
    "for i in tup:\n",
    "    if i==x:\n",
    "        print(\"Yes\",x,\"is present\")\n",
    "    else:\n",
    "        continue\n"
   ]
  },
  {
   "cell_type": "code",
   "execution_count": 29,
   "metadata": {},
   "outputs": [
    {
     "name": "stdout",
     "output_type": "stream",
     "text": [
      "(1, 1, 2, 3)\n"
     ]
    }
   ],
   "source": [
    "#[Question-11]\n",
    "\n",
    "list=[1,1,2,3]\n",
    "tup=tuple(list)\n",
    "print(tup)\n"
   ]
  },
  {
   "cell_type": "code",
   "execution_count": 30,
   "metadata": {},
   "outputs": [
    {
     "name": "stdout",
     "output_type": "stream",
     "text": [
      "(1, 100, 123, 34, 78, 98)\n"
     ]
    }
   ],
   "source": [
    "#[Question-12]\n",
    "\n",
    "tup=(1,100,123,4,34,78,98)\n",
    "tup=tup[:3]+tup[4:]\n",
    "print(tup)\n"
   ]
  },
  {
   "cell_type": "code",
   "execution_count": 31,
   "metadata": {},
   "outputs": [
    {
     "name": "stdout",
     "output_type": "stream",
     "text": [
      "(3, 5, 100, 45, 12, 65)\n"
     ]
    }
   ],
   "source": [
    "#[Question-13]\n",
    "\n",
    "tup=(3,5,1,100,45,12,65)\n",
    "tup=tup[:2]+tup[3:]\n",
    "print(tup)\n"
   ]
  },
  {
   "cell_type": "code",
   "execution_count": 32,
   "metadata": {},
   "outputs": [
    {
     "name": "stdout",
     "output_type": "stream",
     "text": [
      "Enter Number to find Index:12\n",
      "Number 12 found at 11 location\n"
     ]
    }
   ],
   "source": [
    "#[Question-14]\n",
    "\n",
    "tup=(2,5,12)\n",
    "x=int(input(\"Enter Number to find Index:\"))\n",
    "\n",
    "for i in tup:\n",
    "    if i==x:\n",
    "        print(\"Number\",x,\"found at\",i-1,\"location\")\n",
    "        \n",
    "    else:\n",
    "        continue\n"
   ]
  },
  {
   "cell_type": "code",
   "execution_count": 33,
   "metadata": {},
   "outputs": [
    {
     "name": "stdout",
     "output_type": "stream",
     "text": [
      "There are 4 elements\n"
     ]
    }
   ],
   "source": [
    "#[Question-15]\n",
    "\n",
    "tup=(12,3,45,12)\n",
    "sum=0\n",
    "for i in tup:\n",
    "    sum=sum+1\n",
    "print(\"There are\",sum,\"elements\")\n"
   ]
  },
  {
   "cell_type": "code",
   "execution_count": 37,
   "metadata": {},
   "outputs": [
    {
     "ename": "TypeError",
     "evalue": "'int' object is not callable",
     "output_type": "error",
     "traceback": [
      "\u001b[1;31m---------------------------------------------------------------------------\u001b[0m",
      "\u001b[1;31mTypeError\u001b[0m                                 Traceback (most recent call last)",
      "\u001b[1;32m<ipython-input-37-afbc0b676478>\u001b[0m in \u001b[0;36m<module>\u001b[1;34m\u001b[0m\n\u001b[0;32m      2\u001b[0m \u001b[1;31m#[Question-1]\u001b[0m\u001b[1;33m\u001b[0m\u001b[1;33m\u001b[0m\u001b[1;33m\u001b[0m\u001b[0m\n\u001b[0;32m      3\u001b[0m \u001b[0ma\u001b[0m\u001b[1;33m=\u001b[0m\u001b[1;33m[\u001b[0m\u001b[1;36m1\u001b[0m\u001b[1;33m,\u001b[0m\u001b[1;36m2\u001b[0m\u001b[1;33m,\u001b[0m\u001b[1;36m3\u001b[0m\u001b[1;33m,\u001b[0m\u001b[1;36m4\u001b[0m\u001b[1;33m]\u001b[0m\u001b[1;33m\u001b[0m\u001b[1;33m\u001b[0m\u001b[0m\n\u001b[1;32m----> 4\u001b[1;33m \u001b[0mprint\u001b[0m\u001b[1;33m(\u001b[0m\u001b[0msum\u001b[0m\u001b[1;33m(\u001b[0m\u001b[0ma\u001b[0m\u001b[1;33m)\u001b[0m\u001b[1;33m)\u001b[0m\u001b[1;33m\u001b[0m\u001b[1;33m\u001b[0m\u001b[0m\n\u001b[0m",
      "\u001b[1;31mTypeError\u001b[0m: 'int' object is not callable"
     ]
    }
   ],
   "source": [
    "#{Lab-5}\n",
    "#[Question-1]\n",
    "a=[1,2,3,4]\n",
    "print(sum(a))\n"
   ]
  },
  {
   "cell_type": "code",
   "execution_count": 39,
   "metadata": {},
   "outputs": [
    {
     "name": "stdout",
     "output_type": "stream",
     "text": [
      "Multiplication is 24\n"
     ]
    }
   ],
   "source": [
    "#[Question-2]\n",
    "li=[1,2,3,4]\n",
    "mul=1\n",
    "for i in li:\n",
    "    mul=mul*i\n",
    "print(\"Multiplication is\",mul)\n"
   ]
  },
  {
   "cell_type": "code",
   "execution_count": 40,
   "metadata": {},
   "outputs": [
    {
     "name": "stdout",
     "output_type": "stream",
     "text": [
      "Maximum from list is 100\n"
     ]
    }
   ],
   "source": [
    "#[Question-3]\n",
    "a=[1,100,45,12,15]\n",
    "print(\"Maximum from list is\",max(a))\n"
   ]
  },
  {
   "cell_type": "code",
   "execution_count": 41,
   "metadata": {},
   "outputs": [
    {
     "name": "stdout",
     "output_type": "stream",
     "text": [
      "Minimum is 10\n"
     ]
    }
   ],
   "source": [
    "#[Question-4]\n",
    "a=[10,100,34,100]\n",
    "print(\"Minimum is\",min(a))\n"
   ]
  },
  {
   "cell_type": "code",
   "execution_count": 42,
   "metadata": {},
   "outputs": [
    {
     "name": "stdout",
     "output_type": "stream",
     "text": [
      "3\n"
     ]
    }
   ],
   "source": [
    "#[Question-5]\n",
    "a=[\"1221\",\"aba\",\"abc\",\"xyz\",\"ana\"]\n",
    "sum=0\n",
    "for i in a:\n",
    "    if i[0]==i[-1]:\n",
    "        sum=sum+1\n",
    "        \n",
    "print(sum)\n"
   ]
  },
  {
   "cell_type": "code",
   "execution_count": 43,
   "metadata": {},
   "outputs": [
    {
     "name": "stdout",
     "output_type": "stream",
     "text": [
      "[1, 2, 3, 9]\n"
     ]
    }
   ],
   "source": [
    "#[Question-7]\n",
    "k=[]\n",
    "a=[1,2,3,1,9]\n",
    "for i in a:\n",
    "    if i not in k:\n",
    "        k.append(i)\n",
    "            \n",
    "print(k)\n",
    "\n"
   ]
  },
  {
   "cell_type": "code",
   "execution_count": 44,
   "metadata": {},
   "outputs": [
    {
     "ename": "TypeError",
     "evalue": "'int' object is not callable",
     "output_type": "error",
     "traceback": [
      "\u001b[1;31m---------------------------------------------------------------------------\u001b[0m",
      "\u001b[1;31mTypeError\u001b[0m                                 Traceback (most recent call last)",
      "\u001b[1;32m<ipython-input-44-0a8f2ad81160>\u001b[0m in \u001b[0;36m<module>\u001b[1;34m\u001b[0m\n\u001b[0;32m      1\u001b[0m \u001b[1;31m#[Question-8]\u001b[0m\u001b[1;33m\u001b[0m\u001b[1;33m\u001b[0m\u001b[1;33m\u001b[0m\u001b[0m\n\u001b[0;32m      2\u001b[0m \u001b[0ma\u001b[0m\u001b[1;33m=\u001b[0m\u001b[1;33m[\u001b[0m\u001b[1;33m]\u001b[0m\u001b[1;33m\u001b[0m\u001b[1;33m\u001b[0m\u001b[0m\n\u001b[1;32m----> 3\u001b[1;33m \u001b[1;32mif\u001b[0m \u001b[0mlen\u001b[0m\u001b[1;33m(\u001b[0m\u001b[0ma\u001b[0m\u001b[1;33m)\u001b[0m\u001b[1;33m>\u001b[0m\u001b[1;36m0\u001b[0m\u001b[1;33m:\u001b[0m\u001b[1;33m\u001b[0m\u001b[1;33m\u001b[0m\u001b[0m\n\u001b[0m\u001b[0;32m      4\u001b[0m     \u001b[0mprint\u001b[0m\u001b[1;33m(\u001b[0m\u001b[1;34m\"List is Not Empty\"\u001b[0m\u001b[1;33m)\u001b[0m\u001b[1;33m\u001b[0m\u001b[1;33m\u001b[0m\u001b[0m\n\u001b[0;32m      5\u001b[0m \u001b[1;32melse\u001b[0m\u001b[1;33m:\u001b[0m\u001b[1;33m\u001b[0m\u001b[1;33m\u001b[0m\u001b[0m\n",
      "\u001b[1;31mTypeError\u001b[0m: 'int' object is not callable"
     ]
    }
   ],
   "source": [
    "#[Question-8]\n",
    "a=[]\n",
    "if len(a)>0:\n",
    "    print(\"List is Not Empty\")\n",
    "else:\n",
    "    print(\"List is Empty\")\n"
   ]
  },
  {
   "cell_type": "code",
   "execution_count": 45,
   "metadata": {},
   "outputs": [
    {
     "name": "stdout",
     "output_type": "stream",
     "text": [
      "[1, 2, 3]\n"
     ]
    }
   ],
   "source": [
    "#[Question-9]\n",
    "a=[1,2,3]\n",
    "b=[]\n",
    "\n",
    "for i in a:\n",
    "    b.append(i)\n",
    "print(b)\n"
   ]
  },
  {
   "cell_type": "code",
   "execution_count": 46,
   "metadata": {},
   "outputs": [
    {
     "name": "stdout",
     "output_type": "stream",
     "text": [
      "['Hello', 'Halwa', 'Ayush']\n"
     ]
    }
   ],
   "source": [
    "#[Question-10]\n",
    "a=[\"Hello\",\"Hi\",\"Halwa\",\"Ayush\",\"AK\"]\n",
    "b=[]\n",
    "count=0\n",
    "for i in a:\n",
    "    for j in i:\n",
    "        count=count+1\n",
    "    if count>2:\n",
    "        b.append(i)\n",
    "    count=0\n",
    "\n",
    "print(b)\n"
   ]
  },
  {
   "cell_type": "code",
   "execution_count": 47,
   "metadata": {},
   "outputs": [
    {
     "name": "stdout",
     "output_type": "stream",
     "text": [
      "True\n"
     ]
    }
   ],
   "source": [
    "#[Question-11]\n",
    "def common(list1, list2):\n",
    "     \n",
    "     for x in list1:\n",
    "         for y in list2:\n",
    "             if x == y:\n",
    "                 result = True\n",
    "                 return result\n",
    "print(common([1,2,3,4,5], [5,6,7,8,9]))\n"
   ]
  },
  {
   "cell_type": "code",
   "execution_count": 48,
   "metadata": {},
   "outputs": [
    {
     "name": "stdout",
     "output_type": "stream",
     "text": [
      "['Green', 'White', 'Black', 'Pink', 'Hello', 1, 2]\n"
     ]
    }
   ],
   "source": [
    "#[Question-12]\n",
    "a=['Red', 'Green', 'White', 'Black', 'Pink', 'Yellow',\"Hello\",\"Hi\",1,2]\n",
    "a.remove(a[0])\n",
    "a.remove(a[4])\n",
    "a.remove(a[5])\n",
    "print(a)\n"
   ]
  },
  {
   "cell_type": "code",
   "execution_count": 49,
   "metadata": {},
   "outputs": [
    {
     "name": "stdout",
     "output_type": "stream",
     "text": [
      "Multiplication is 6\n"
     ]
    }
   ],
   "source": [
    "#{Lab-7}\n",
    "#[Question-1]\n",
    "\n",
    "def mul(x,y):\n",
    "    return x*y\n",
    "\n",
    "x=2\n",
    "y=3\n",
    "print(\"Multiplication is\",mul(x,y))\n"
   ]
  },
  {
   "cell_type": "code",
   "execution_count": 50,
   "metadata": {},
   "outputs": [
    {
     "name": "stdout",
     "output_type": "stream",
     "text": [
      "Addition is 9\n"
     ]
    }
   ],
   "source": [
    "#[Question-2]\n",
    "def add(x,y):\n",
    "    return x+y\n",
    "\n",
    "x=2\n",
    "y=7\n",
    "print(\"Addition is\",add(x,y))\n"
   ]
  },
  {
   "cell_type": "code",
   "execution_count": 51,
   "metadata": {},
   "outputs": [
    {
     "name": "stdout",
     "output_type": "stream",
     "text": [
      "Factorial is 6\n"
     ]
    }
   ],
   "source": [
    "#[Question-3]\n",
    "def fact(x):\n",
    "    fact=1\n",
    "    for i in range(1,x+1):\n",
    "        fact=fact*i\n",
    "    return fact\n",
    "\n",
    "print(\"Factorial is\",fact(3))\n"
   ]
  },
  {
   "cell_type": "code",
   "execution_count": 52,
   "metadata": {},
   "outputs": [
    {
     "name": "stdout",
     "output_type": "stream",
     "text": [
      "21\n"
     ]
    }
   ],
   "source": [
    "#[Question-4]\n",
    "def Fibonacci(n): \n",
    "    if n<0: \n",
    "        print(\"Incorrect input\") \n",
    "    elif n==1: \n",
    "        return 0\n",
    "    elif n==2: \n",
    "        return 1\n",
    "    else: \n",
    "        return Fibonacci(n-1)+Fibonacci(n-2) \n",
    "\n",
    "\n",
    "print(Fibonacci(9)) \n"
   ]
  },
  {
   "cell_type": "code",
   "execution_count": 53,
   "metadata": {},
   "outputs": [
    {
     "name": "stdout",
     "output_type": "stream",
     "text": [
      "Numbers Swapped (3, 2)\n"
     ]
    }
   ],
   "source": [
    "#[Question-5]\n",
    "def swap(x,y):\n",
    "    temp=x\n",
    "    x=y\n",
    "    y=temp\n",
    "    return x,y\n",
    "\n",
    "print(\"Numbers Swapped\",swap(2,3))\n"
   ]
  },
  {
   "cell_type": "code",
   "execution_count": 54,
   "metadata": {},
   "outputs": [
    {
     "name": "stdout",
     "output_type": "stream",
     "text": [
      "GCD of 92 and 55 is 1\n"
     ]
    }
   ],
   "source": [
    "#[Question-6]\n",
    "def gcd(a,b): \n",
    "\n",
    " \n",
    "    if (a == 0): \n",
    "        return b \n",
    "    if (b == 0): \n",
    "        return a  \n",
    "    if (a == b): \n",
    "        return a \n",
    " \n",
    "    if (a > b): \n",
    "        return gcd(a-b, b) \n",
    "    return gcd(a, b-a) \n",
    "\n",
    " \n",
    "a = 92\n",
    "b = 55\n",
    "if(gcd(a, b)): \n",
    "    print('GCD of', a, 'and', b, 'is', gcd(a, b)) \n",
    "else: \n",
    "    print('not found') \n"
   ]
  },
  {
   "cell_type": "code",
   "execution_count": 56,
   "metadata": {},
   "outputs": [
    {
     "name": "stdout",
     "output_type": "stream",
     "text": [
      "Enter a Charactera\n",
      "The ASCII value of 'a' is 97\n"
     ]
    }
   ],
   "source": [
    "#[Question-7]\n",
    "c=input(\"Enter a Character\")\n",
    "print(\"The ASCII value of '\" + c + \"' is\", ord(c))\n"
   ]
  },
  {
   "cell_type": "code",
   "execution_count": 57,
   "metadata": {},
   "outputs": [
    {
     "name": "stdout",
     "output_type": "stream",
     "text": [
      "Present date is : \n",
      "2020-05-03\n"
     ]
    }
   ],
   "source": [
    "#[Question-8]\n",
    "import datetime\n",
    "from datetime import date\n",
    "\n",
    "print (\"Present date is : \") \n",
    "print (date.today()) \n"
   ]
  },
  {
   "cell_type": "code",
   "execution_count": 60,
   "metadata": {},
   "outputs": [
    {
     "name": "stdout",
     "output_type": "stream",
     "text": [
      "Hello Ma'am , How Are You?\n"
     ]
    }
   ],
   "source": [
    "#[Question-9]\n",
    "def greet(name,message):\n",
    "    print(\"Hello\",name,\",\",message)\n",
    "    \n",
    "greet(\"Ma'am\",\"How Are You?\")\n"
   ]
  },
  {
   "cell_type": "code",
   "execution_count": 62,
   "metadata": {},
   "outputs": [
    {
     "name": "stdout",
     "output_type": "stream",
     "text": [
      "Hi Ma'am How Are You?\n",
      "Hi How do you do? How Are You?\n"
     ]
    }
   ],
   "source": [
    "#[Question-10]\n",
    "def greet(name,message=\"How Are You?\"):\n",
    "    print(\"Hi\",name+\" \"+message)\n",
    "greet(\"Ma'am\")\n",
    "greet(\"How do you do?\")\n"
   ]
  },
  {
   "cell_type": "code",
   "execution_count": 63,
   "metadata": {},
   "outputs": [
    {
     "name": "stdout",
     "output_type": "stream",
     "text": [
      "Triangle is created\n",
      "None\n",
      "Sides are 2 and 3\n",
      "None\n"
     ]
    }
   ],
   "source": [
    "#{Lab-9}\n",
    "\n",
    "class Triangle:\n",
    "    a=3\n",
    "    b=4\n",
    "    def create_triangle():\n",
    "        return print(\"Triangle is created\")\n",
    "        \n",
    "    def print_sides(a,b):\n",
    "        return print(\"Sides are\",a,\"and\",b)\n",
    "        \n",
    "a=2\n",
    "b=3\n",
    "print(Triangle.create_triangle())\n",
    "\n",
    "print(Triangle.print_sides(a,b))\n"
   ]
  },
  {
   "cell_type": "code",
   "execution_count": 65,
   "metadata": {},
   "outputs": [
    {
     "name": "stdout",
     "output_type": "stream",
     "text": [
      "Enter a stringTest\n",
      "GreetingsMa'am\n"
     ]
    }
   ],
   "source": [
    "class string:\n",
    "    def inputstr():\n",
    "        str=input(\"Enter a string\")\n",
    "        \n",
    "    def printstr(str):\n",
    "        return str\n",
    "    \n",
    "    \n",
    "string.inputstr()\n",
    "print(string.printstr(str))\n"
   ]
  },
  {
   "cell_type": "code",
   "execution_count": 66,
   "metadata": {},
   "outputs": [
    {
     "name": "stdout",
     "output_type": "stream",
     "text": [
      "Perimeter is 10\n"
     ]
    }
   ],
   "source": [
    "class Rectangle:\n",
    "    \n",
    "    def perimeter(length,breadth):\n",
    "        per=2*(length+breadth)\n",
    "        return per\n",
    "    \n",
    "print(\"Perimeter is\",Rectangle.perimeter(2,3))\n"
   ]
  },
  {
   "cell_type": "code",
   "execution_count": 67,
   "metadata": {},
   "outputs": [
    {
     "name": "stdout",
     "output_type": "stream",
     "text": [
      "Area of circle is 12.56\n",
      "Perimeter of circle is 18.84\n"
     ]
    }
   ],
   "source": [
    "class Circle:\n",
    "    \n",
    "    def area(r):\n",
    "        area=3.14*r*r\n",
    "        return area\n",
    "    \n",
    "    def perimeter(r):\n",
    "        per=2*3.14*r\n",
    "        return per\n",
    "    \n",
    "    \n",
    "print(\"Area of circle is\",Circle.area(2))\n",
    "print(\"Perimeter of circle is\",Circle.perimeter(3))\n"
   ]
  },
  {
   "cell_type": "code",
   "execution_count": 68,
   "metadata": {},
   "outputs": [
    {
     "name": "stdout",
     "output_type": "stream",
     "text": [
      "In Class2\n"
     ]
    }
   ],
   "source": [
    "class Class1: \n",
    "    def m(self): \n",
    "        print(\"In Class1\") \n",
    "\n",
    "class Class2(Class1): \n",
    "    def m(self): \n",
    "        print(\"In Class2\") \n",
    "\n",
    "class Class3(Class1): \n",
    "    def m(self): \n",
    "        print(\"In Class3\") \n",
    "\n",
    "class Class4(Class2, Class3): \n",
    "    pass\n",
    "\n",
    "obj = Class4() \n",
    "obj.m() \n"
   ]
  },
  {
   "cell_type": "code",
   "execution_count": 69,
   "metadata": {},
   "outputs": [
    {
     "ename": "TypeError",
     "evalue": "Animal() takes no arguments",
     "output_type": "error",
     "traceback": [
      "\u001b[1;31m---------------------------------------------------------------------------\u001b[0m",
      "\u001b[1;31mTypeError\u001b[0m                                 Traceback (most recent call last)",
      "\u001b[1;32m<ipython-input-69-85d885266a5b>\u001b[0m in \u001b[0;36m<module>\u001b[1;34m\u001b[0m\n\u001b[0;32m      8\u001b[0m     \u001b[0mprint\u001b[0m\u001b[1;33m(\u001b[0m\u001b[0mself\u001b[0m\u001b[1;33m.\u001b[0m\u001b[0mleg\u001b[0m\u001b[1;33m)\u001b[0m\u001b[1;33m\u001b[0m\u001b[1;33m\u001b[0m\u001b[0m\n\u001b[0;32m      9\u001b[0m \u001b[1;33m\u001b[0m\u001b[0m\n\u001b[1;32m---> 10\u001b[1;33m \u001b[1;32mclass\u001b[0m \u001b[0mtiger\u001b[0m\u001b[1;33m:\u001b[0m\u001b[1;33m\u001b[0m\u001b[1;33m\u001b[0m\u001b[0m\n\u001b[0m\u001b[0;32m     11\u001b[0m     \u001b[0mx\u001b[0m \u001b[1;33m=\u001b[0m \u001b[0mAnimal\u001b[0m\u001b[1;33m(\u001b[0m\u001b[1;34m\"4\"\u001b[0m\u001b[1;33m)\u001b[0m\u001b[1;33m\u001b[0m\u001b[1;33m\u001b[0m\u001b[0m\n\u001b[0;32m     12\u001b[0m     \u001b[0mprint\u001b[0m\u001b[1;33m(\u001b[0m\u001b[1;34m\"Tiger has leg:- \"\u001b[0m\u001b[1;33m,\u001b[0m \u001b[0mend\u001b[0m\u001b[1;33m=\u001b[0m\u001b[1;34m\"\"\u001b[0m\u001b[1;33m)\u001b[0m\u001b[1;33m\u001b[0m\u001b[1;33m\u001b[0m\u001b[0m\n",
      "\u001b[1;32m<ipython-input-69-85d885266a5b>\u001b[0m in \u001b[0;36mtiger\u001b[1;34m()\u001b[0m\n\u001b[0;32m      9\u001b[0m \u001b[1;33m\u001b[0m\u001b[0m\n\u001b[0;32m     10\u001b[0m \u001b[1;32mclass\u001b[0m \u001b[0mtiger\u001b[0m\u001b[1;33m:\u001b[0m\u001b[1;33m\u001b[0m\u001b[1;33m\u001b[0m\u001b[0m\n\u001b[1;32m---> 11\u001b[1;33m     \u001b[0mx\u001b[0m \u001b[1;33m=\u001b[0m \u001b[0mAnimal\u001b[0m\u001b[1;33m(\u001b[0m\u001b[1;34m\"4\"\u001b[0m\u001b[1;33m)\u001b[0m\u001b[1;33m\u001b[0m\u001b[1;33m\u001b[0m\u001b[0m\n\u001b[0m\u001b[0;32m     12\u001b[0m     \u001b[0mprint\u001b[0m\u001b[1;33m(\u001b[0m\u001b[1;34m\"Tiger has leg:- \"\u001b[0m\u001b[1;33m,\u001b[0m \u001b[0mend\u001b[0m\u001b[1;33m=\u001b[0m\u001b[1;34m\"\"\u001b[0m\u001b[1;33m)\u001b[0m\u001b[1;33m\u001b[0m\u001b[1;33m\u001b[0m\u001b[0m\n\u001b[0;32m     13\u001b[0m     \u001b[0mx\u001b[0m\u001b[1;33m.\u001b[0m\u001b[0mprintleg\u001b[0m\u001b[1;33m(\u001b[0m\u001b[1;33m)\u001b[0m\u001b[1;33m\u001b[0m\u001b[1;33m\u001b[0m\u001b[0m\n",
      "\u001b[1;31mTypeError\u001b[0m: Animal() takes no arguments"
     ]
    }
   ],
   "source": [
    "#{Lab10}\n",
    "\n",
    "class Animal:\n",
    "  def _init_(self, leg):\n",
    "    self.leg = leg\n",
    "\n",
    "  def printleg(self):\n",
    "    print(self.leg)\n",
    "\n",
    "class tiger:\n",
    "    x = Animal(\"4\")\n",
    "    print(\"Tiger has leg:- \", end=\"\")\n",
    "    x.printleg()\n",
    "class dog:\n",
    "    x = Animal(\"4\")\n",
    "    print(\"Dog has leg:- \", end=\"\")\n",
    "    x.printleg()\n"
   ]
  },
  {
   "cell_type": "code",
   "execution_count": 70,
   "metadata": {},
   "outputs": [
    {
     "ename": "TypeError",
     "evalue": "Employee() takes no arguments",
     "output_type": "error",
     "traceback": [
      "\u001b[1;31m---------------------------------------------------------------------------\u001b[0m",
      "\u001b[1;31mTypeError\u001b[0m                                 Traceback (most recent call last)",
      "\u001b[1;32m<ipython-input-70-d4c3ebd28aeb>\u001b[0m in \u001b[0;36m<module>\u001b[1;34m\u001b[0m\n\u001b[0;32m      6\u001b[0m     \u001b[0mprint\u001b[0m\u001b[1;33m(\u001b[0m\u001b[0mself\u001b[0m\u001b[1;33m.\u001b[0m\u001b[0mdesg\u001b[0m\u001b[1;33m)\u001b[0m\u001b[1;33m\u001b[0m\u001b[1;33m\u001b[0m\u001b[0m\n\u001b[0;32m      7\u001b[0m \u001b[1;33m\u001b[0m\u001b[0m\n\u001b[1;32m----> 8\u001b[1;33m \u001b[1;32mclass\u001b[0m \u001b[0mengineer\u001b[0m\u001b[1;33m:\u001b[0m\u001b[1;33m\u001b[0m\u001b[1;33m\u001b[0m\u001b[0m\n\u001b[0m\u001b[0;32m      9\u001b[0m     \u001b[0mx\u001b[0m \u001b[1;33m=\u001b[0m \u001b[0mEmployee\u001b[0m\u001b[1;33m(\u001b[0m\u001b[1;34m\"Enginner\"\u001b[0m\u001b[1;33m)\u001b[0m\u001b[1;33m\u001b[0m\u001b[1;33m\u001b[0m\u001b[0m\n\u001b[0;32m     10\u001b[0m     \u001b[0mprint\u001b[0m\u001b[1;33m(\u001b[0m\u001b[1;34m\"This has a designation of:- \"\u001b[0m\u001b[1;33m,\u001b[0m \u001b[0mend\u001b[0m\u001b[1;33m=\u001b[0m\u001b[1;34m\"\"\u001b[0m\u001b[1;33m)\u001b[0m\u001b[1;33m\u001b[0m\u001b[1;33m\u001b[0m\u001b[0m\n",
      "\u001b[1;32m<ipython-input-70-d4c3ebd28aeb>\u001b[0m in \u001b[0;36mengineer\u001b[1;34m()\u001b[0m\n\u001b[0;32m      7\u001b[0m \u001b[1;33m\u001b[0m\u001b[0m\n\u001b[0;32m      8\u001b[0m \u001b[1;32mclass\u001b[0m \u001b[0mengineer\u001b[0m\u001b[1;33m:\u001b[0m\u001b[1;33m\u001b[0m\u001b[1;33m\u001b[0m\u001b[0m\n\u001b[1;32m----> 9\u001b[1;33m     \u001b[0mx\u001b[0m \u001b[1;33m=\u001b[0m \u001b[0mEmployee\u001b[0m\u001b[1;33m(\u001b[0m\u001b[1;34m\"Enginner\"\u001b[0m\u001b[1;33m)\u001b[0m\u001b[1;33m\u001b[0m\u001b[1;33m\u001b[0m\u001b[0m\n\u001b[0m\u001b[0;32m     10\u001b[0m     \u001b[0mprint\u001b[0m\u001b[1;33m(\u001b[0m\u001b[1;34m\"This has a designation of:- \"\u001b[0m\u001b[1;33m,\u001b[0m \u001b[0mend\u001b[0m\u001b[1;33m=\u001b[0m\u001b[1;34m\"\"\u001b[0m\u001b[1;33m)\u001b[0m\u001b[1;33m\u001b[0m\u001b[1;33m\u001b[0m\u001b[0m\n\u001b[0;32m     11\u001b[0m     \u001b[0mx\u001b[0m\u001b[1;33m.\u001b[0m\u001b[0mprintdesg\u001b[0m\u001b[1;33m(\u001b[0m\u001b[1;33m)\u001b[0m\u001b[1;33m\u001b[0m\u001b[1;33m\u001b[0m\u001b[0m\n",
      "\u001b[1;31mTypeError\u001b[0m: Employee() takes no arguments"
     ]
    }
   ],
   "source": [
    "class Employee:\n",
    "  def _init_(self, desg):\n",
    "    self.desg = desg\n",
    "\n",
    "  def printdesg(self):\n",
    "    print(self.desg)\n",
    "\n",
    "class engineer:\n",
    "    x = Employee(\"Enginner\")\n",
    "    print(\"This has a designation of:- \", end=\"\")\n",
    "    x.printdesg()\n",
    "class manager:\n",
    "    x = Employee(\"Manager\")\n",
    "    print(\"This has a designation of:- \", end=\"\")\n",
    "    x.printdesg()\n"
   ]
  },
  {
   "cell_type": "code",
   "execution_count": 72,
   "metadata": {},
   "outputs": [
    {
     "name": "stdout",
     "output_type": "stream",
     "text": [
      "10\n",
      "<function MyClass.func at 0x0000025D9C8A4B88>\n"
     ]
    },
    {
     "ename": "AttributeError",
     "evalue": "type object 'MyClass' has no attribute '_doc_'",
     "output_type": "error",
     "traceback": [
      "\u001b[1;31m---------------------------------------------------------------------------\u001b[0m",
      "\u001b[1;31mAttributeError\u001b[0m                            Traceback (most recent call last)",
      "\u001b[1;32m<ipython-input-72-fe3c6adbd7dc>\u001b[0m in \u001b[0;36m<module>\u001b[1;34m\u001b[0m\n\u001b[0;32m      6\u001b[0m \u001b[0mprint\u001b[0m\u001b[1;33m(\u001b[0m\u001b[0mMyClass\u001b[0m\u001b[1;33m.\u001b[0m\u001b[0ma\u001b[0m\u001b[1;33m)\u001b[0m\u001b[1;33m\u001b[0m\u001b[1;33m\u001b[0m\u001b[0m\n\u001b[0;32m      7\u001b[0m \u001b[0mprint\u001b[0m\u001b[1;33m(\u001b[0m\u001b[0mMyClass\u001b[0m\u001b[1;33m.\u001b[0m\u001b[0mfunc\u001b[0m\u001b[1;33m)\u001b[0m\u001b[1;33m\u001b[0m\u001b[1;33m\u001b[0m\u001b[0m\n\u001b[1;32m----> 8\u001b[1;33m \u001b[0mprint\u001b[0m\u001b[1;33m(\u001b[0m\u001b[0mMyClass\u001b[0m\u001b[1;33m.\u001b[0m\u001b[0m_doc_\u001b[0m\u001b[1;33m)\u001b[0m\u001b[1;33m\u001b[0m\u001b[1;33m\u001b[0m\u001b[0m\n\u001b[0m",
      "\u001b[1;31mAttributeError\u001b[0m: type object 'MyClass' has no attribute '_doc_'"
     ]
    }
   ],
   "source": [
    "class MyClass:\n",
    "    \"This is my second class\"\n",
    "    a = 10\n",
    "    def func(self):\n",
    "        print('Hello')\n",
    "print(MyClass.a)\n",
    "print(MyClass.func)\n",
    "print(MyClass._doc_)\n"
   ]
  },
  {
   "cell_type": "code",
   "execution_count": 73,
   "metadata": {},
   "outputs": [
    {
     "ename": "AttributeError",
     "evalue": "'Parent' object has no attribute 'value'",
     "output_type": "error",
     "traceback": [
      "\u001b[1;31m---------------------------------------------------------------------------\u001b[0m",
      "\u001b[1;31mAttributeError\u001b[0m                            Traceback (most recent call last)",
      "\u001b[1;32m<ipython-input-73-0ce1e789b974>\u001b[0m in \u001b[0;36m<module>\u001b[1;34m\u001b[0m\n\u001b[0;32m     12\u001b[0m \u001b[0mobj2\u001b[0m \u001b[1;33m=\u001b[0m \u001b[0mChild\u001b[0m\u001b[1;33m(\u001b[0m\u001b[1;33m)\u001b[0m\u001b[1;33m\u001b[0m\u001b[1;33m\u001b[0m\u001b[0m\n\u001b[0;32m     13\u001b[0m \u001b[1;33m\u001b[0m\u001b[0m\n\u001b[1;32m---> 14\u001b[1;33m \u001b[0mobj1\u001b[0m\u001b[1;33m.\u001b[0m\u001b[0mshow\u001b[0m\u001b[1;33m(\u001b[0m\u001b[1;33m)\u001b[0m\u001b[1;33m\u001b[0m\u001b[1;33m\u001b[0m\u001b[0m\n\u001b[0m\u001b[0;32m     15\u001b[0m \u001b[0mobj2\u001b[0m\u001b[1;33m.\u001b[0m\u001b[0mshow\u001b[0m\u001b[1;33m(\u001b[0m\u001b[1;33m)\u001b[0m\u001b[1;33m\u001b[0m\u001b[1;33m\u001b[0m\u001b[0m\n",
      "\u001b[1;32m<ipython-input-73-0ce1e789b974>\u001b[0m in \u001b[0;36mshow\u001b[1;34m(self)\u001b[0m\n\u001b[0;32m      3\u001b[0m         \u001b[0mself\u001b[0m\u001b[1;33m.\u001b[0m\u001b[0mvalue\u001b[0m \u001b[1;33m=\u001b[0m \u001b[1;34m\"Inside Parent\"\u001b[0m\u001b[1;33m\u001b[0m\u001b[1;33m\u001b[0m\u001b[0m\n\u001b[0;32m      4\u001b[0m     \u001b[1;32mdef\u001b[0m \u001b[0mshow\u001b[0m\u001b[1;33m(\u001b[0m\u001b[0mself\u001b[0m\u001b[1;33m)\u001b[0m\u001b[1;33m:\u001b[0m\u001b[1;33m\u001b[0m\u001b[1;33m\u001b[0m\u001b[0m\n\u001b[1;32m----> 5\u001b[1;33m         \u001b[0mprint\u001b[0m\u001b[1;33m(\u001b[0m\u001b[0mself\u001b[0m\u001b[1;33m.\u001b[0m\u001b[0mvalue\u001b[0m\u001b[1;33m)\u001b[0m\u001b[1;33m\u001b[0m\u001b[1;33m\u001b[0m\u001b[0m\n\u001b[0m\u001b[0;32m      6\u001b[0m \u001b[1;32mclass\u001b[0m \u001b[0mChild\u001b[0m\u001b[1;33m(\u001b[0m\u001b[0mParent\u001b[0m\u001b[1;33m)\u001b[0m\u001b[1;33m:\u001b[0m\u001b[1;33m\u001b[0m\u001b[1;33m\u001b[0m\u001b[0m\n\u001b[0;32m      7\u001b[0m     \u001b[1;32mdef\u001b[0m \u001b[0m_init_\u001b[0m\u001b[1;33m(\u001b[0m\u001b[0mself\u001b[0m\u001b[1;33m)\u001b[0m\u001b[1;33m:\u001b[0m\u001b[1;33m\u001b[0m\u001b[1;33m\u001b[0m\u001b[0m\n",
      "\u001b[1;31mAttributeError\u001b[0m: 'Parent' object has no attribute 'value'"
     ]
    }
   ],
   "source": [
    "class Parent(): \n",
    "    def _init_(self): \n",
    "        self.value = \"Inside Parent\" \n",
    "    def show(self): \n",
    "        print(self.value) \n",
    "class Child(Parent): \n",
    "    def _init_(self): \n",
    "        self.value = \"Inside Child\"\n",
    "    def show(self): \n",
    "        print(self.value)  \n",
    "obj1 = Parent() \n",
    "obj2 = Child() \n",
    "  \n",
    "obj1.show() \n",
    "obj2.show() \n"
   ]
  },
  {
   "cell_type": "code",
   "execution_count": 74,
   "metadata": {},
   "outputs": [
    {
     "name": "stdout",
     "output_type": "stream",
     "text": [
      "In Class4\n",
      "In Class2\n",
      "In Class3\n",
      "In Class1\n"
     ]
    }
   ],
   "source": [
    "class Class1: \n",
    "    def m(self): \n",
    "        print(\"In Class1\")  \n",
    "class Class2(Class1): \n",
    "    def m(self): \n",
    "        print(\"In Class2\") \n",
    "class Class3(Class1): \n",
    "    def m(self): \n",
    "         print(\"In Class3\")      \n",
    "class Class4(Class2, Class3): \n",
    "    def m(self): \n",
    "        print(\"In Class4\")    \n",
    "obj = Class4() \n",
    "obj.m() \n",
    "  \n",
    "Class2.m(obj) \n",
    "Class3.m(obj) \n",
    "Class1.m(obj)\n"
   ]
  },
  {
   "cell_type": "code",
   "execution_count": null,
   "metadata": {},
   "outputs": [],
   "source": []
  }
 ],
 "metadata": {
  "kernelspec": {
   "display_name": "Python 3",
   "language": "python",
   "name": "python3"
  },
  "language_info": {
   "codemirror_mode": {
    "name": "ipython",
    "version": 3
   },
   "file_extension": ".py",
   "mimetype": "text/x-python",
   "name": "python",
   "nbconvert_exporter": "python",
   "pygments_lexer": "ipython3",
   "version": "3.7.4"
  }
 },
 "nbformat": 4,
 "nbformat_minor": 2
}
